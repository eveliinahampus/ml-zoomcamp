{
 "cells": [
  {
   "cell_type": "markdown",
   "id": "e6ba5e2c",
   "metadata": {},
   "source": [
    "### Q1 Pandas version"
   ]
  },
  {
   "cell_type": "code",
   "execution_count": 1,
   "id": "f989955b",
   "metadata": {},
   "outputs": [
    {
     "data": {
      "text/plain": [
       "'2.3.2'"
      ]
     },
     "execution_count": 1,
     "metadata": {},
     "output_type": "execute_result"
    }
   ],
   "source": [
    "import pandas as pd\n",
    "\n",
    "pd.__version__"
   ]
  },
  {
   "cell_type": "markdown",
   "id": "f02c7c64",
   "metadata": {},
   "source": [
    "**Answer**: Pandas version in use is 2.3.2."
   ]
  },
  {
   "cell_type": "markdown",
   "id": "2d0ee85f",
   "metadata": {},
   "source": [
    "### Q2 Records count"
   ]
  },
  {
   "cell_type": "code",
   "execution_count": 2,
   "id": "1a0525c1",
   "metadata": {},
   "outputs": [
    {
     "data": {
      "text/html": [
       "<div>\n",
       "<style scoped>\n",
       "    .dataframe tbody tr th:only-of-type {\n",
       "        vertical-align: middle;\n",
       "    }\n",
       "\n",
       "    .dataframe tbody tr th {\n",
       "        vertical-align: top;\n",
       "    }\n",
       "\n",
       "    .dataframe thead th {\n",
       "        text-align: right;\n",
       "    }\n",
       "</style>\n",
       "<table border=\"1\" class=\"dataframe\">\n",
       "  <thead>\n",
       "    <tr style=\"text-align: right;\">\n",
       "      <th></th>\n",
       "      <th>engine_displacement</th>\n",
       "      <th>num_cylinders</th>\n",
       "      <th>horsepower</th>\n",
       "      <th>vehicle_weight</th>\n",
       "      <th>acceleration</th>\n",
       "      <th>model_year</th>\n",
       "      <th>origin</th>\n",
       "      <th>fuel_type</th>\n",
       "      <th>drivetrain</th>\n",
       "      <th>num_doors</th>\n",
       "      <th>fuel_efficiency_mpg</th>\n",
       "    </tr>\n",
       "  </thead>\n",
       "  <tbody>\n",
       "    <tr>\n",
       "      <th>0</th>\n",
       "      <td>170</td>\n",
       "      <td>3.0</td>\n",
       "      <td>159.0</td>\n",
       "      <td>3413.433759</td>\n",
       "      <td>17.7</td>\n",
       "      <td>2003</td>\n",
       "      <td>Europe</td>\n",
       "      <td>Gasoline</td>\n",
       "      <td>All-wheel drive</td>\n",
       "      <td>0.0</td>\n",
       "      <td>13.231729</td>\n",
       "    </tr>\n",
       "    <tr>\n",
       "      <th>1</th>\n",
       "      <td>130</td>\n",
       "      <td>5.0</td>\n",
       "      <td>97.0</td>\n",
       "      <td>3149.664934</td>\n",
       "      <td>17.8</td>\n",
       "      <td>2007</td>\n",
       "      <td>USA</td>\n",
       "      <td>Gasoline</td>\n",
       "      <td>Front-wheel drive</td>\n",
       "      <td>0.0</td>\n",
       "      <td>13.688217</td>\n",
       "    </tr>\n",
       "    <tr>\n",
       "      <th>2</th>\n",
       "      <td>170</td>\n",
       "      <td>NaN</td>\n",
       "      <td>78.0</td>\n",
       "      <td>3079.038997</td>\n",
       "      <td>15.1</td>\n",
       "      <td>2018</td>\n",
       "      <td>Europe</td>\n",
       "      <td>Gasoline</td>\n",
       "      <td>Front-wheel drive</td>\n",
       "      <td>0.0</td>\n",
       "      <td>14.246341</td>\n",
       "    </tr>\n",
       "    <tr>\n",
       "      <th>3</th>\n",
       "      <td>220</td>\n",
       "      <td>4.0</td>\n",
       "      <td>NaN</td>\n",
       "      <td>2542.392402</td>\n",
       "      <td>20.2</td>\n",
       "      <td>2009</td>\n",
       "      <td>USA</td>\n",
       "      <td>Diesel</td>\n",
       "      <td>All-wheel drive</td>\n",
       "      <td>2.0</td>\n",
       "      <td>16.912736</td>\n",
       "    </tr>\n",
       "    <tr>\n",
       "      <th>4</th>\n",
       "      <td>210</td>\n",
       "      <td>1.0</td>\n",
       "      <td>140.0</td>\n",
       "      <td>3460.870990</td>\n",
       "      <td>14.4</td>\n",
       "      <td>2009</td>\n",
       "      <td>Europe</td>\n",
       "      <td>Gasoline</td>\n",
       "      <td>All-wheel drive</td>\n",
       "      <td>2.0</td>\n",
       "      <td>12.488369</td>\n",
       "    </tr>\n",
       "  </tbody>\n",
       "</table>\n",
       "</div>"
      ],
      "text/plain": [
       "   engine_displacement  num_cylinders  horsepower  vehicle_weight  \\\n",
       "0                  170            3.0       159.0     3413.433759   \n",
       "1                  130            5.0        97.0     3149.664934   \n",
       "2                  170            NaN        78.0     3079.038997   \n",
       "3                  220            4.0         NaN     2542.392402   \n",
       "4                  210            1.0       140.0     3460.870990   \n",
       "\n",
       "   acceleration  model_year  origin fuel_type         drivetrain  num_doors  \\\n",
       "0          17.7        2003  Europe  Gasoline    All-wheel drive        0.0   \n",
       "1          17.8        2007     USA  Gasoline  Front-wheel drive        0.0   \n",
       "2          15.1        2018  Europe  Gasoline  Front-wheel drive        0.0   \n",
       "3          20.2        2009     USA    Diesel    All-wheel drive        2.0   \n",
       "4          14.4        2009  Europe  Gasoline    All-wheel drive        2.0   \n",
       "\n",
       "   fuel_efficiency_mpg  \n",
       "0            13.231729  \n",
       "1            13.688217  \n",
       "2            14.246341  \n",
       "3            16.912736  \n",
       "4            12.488369  "
      ]
     },
     "execution_count": 2,
     "metadata": {},
     "output_type": "execute_result"
    }
   ],
   "source": [
    "df = pd.read_csv(\"../data/car_fuel_efficiency.csv\")\n",
    "# First let's have a peek what we have in the file.\n",
    "df.head()"
   ]
  },
  {
   "cell_type": "code",
   "execution_count": 3,
   "id": "1d270a56",
   "metadata": {},
   "outputs": [
    {
     "name": "stdout",
     "output_type": "stream",
     "text": [
      "9704\n"
     ]
    }
   ],
   "source": [
    "records = len(df)  # Prints number of records.\n",
    "print(records)"
   ]
  },
  {
   "cell_type": "markdown",
   "id": "7ea2fe59",
   "metadata": {},
   "source": [
    "**Answer**: There is 9704 records in the csv file."
   ]
  },
  {
   "cell_type": "markdown",
   "id": "805d65da",
   "metadata": {},
   "source": [
    "### Q3 Fuel types"
   ]
  },
  {
   "cell_type": "code",
   "execution_count": 4,
   "id": "ae28ce89",
   "metadata": {},
   "outputs": [
    {
     "name": "stdout",
     "output_type": "stream",
     "text": [
      "2\n"
     ]
    }
   ],
   "source": [
    "fuel = df[\n",
    "    \"fuel_type\"\n",
    "].nunique()  # This print number of unique values in fuel_type column.\n",
    "print(fuel)"
   ]
  },
  {
   "cell_type": "markdown",
   "id": "5de5b4d5",
   "metadata": {},
   "source": [
    "**Answer**: There is only two distinct values in the fuel types."
   ]
  },
  {
   "cell_type": "markdown",
   "id": "7314b525",
   "metadata": {},
   "source": [
    "### Q4 Missing values"
   ]
  },
  {
   "cell_type": "code",
   "execution_count": 5,
   "id": "9c690a7e",
   "metadata": {},
   "outputs": [
    {
     "name": "stdout",
     "output_type": "stream",
     "text": [
      "engine_displacement      0\n",
      "num_cylinders          482\n",
      "horsepower             708\n",
      "vehicle_weight           0\n",
      "acceleration           930\n",
      "model_year               0\n",
      "origin                   0\n",
      "fuel_type                0\n",
      "drivetrain               0\n",
      "num_doors              502\n",
      "fuel_efficiency_mpg      0\n",
      "dtype: int64\n"
     ]
    }
   ],
   "source": [
    "missing = df.isnull().sum()\n",
    "print(missing)"
   ]
  },
  {
   "cell_type": "markdown",
   "id": "a3fcaab9",
   "metadata": {},
   "source": [
    "**Answer**: Total amount of missing values is 2622, located in four distinct columns."
   ]
  },
  {
   "cell_type": "markdown",
   "id": "99e35c6c",
   "metadata": {},
   "source": [
    "### Q5 Max fuel efficiency"
   ]
  },
  {
   "cell_type": "code",
   "execution_count": 6,
   "id": "ed386af6",
   "metadata": {},
   "outputs": [
    {
     "name": "stdout",
     "output_type": "stream",
     "text": [
      "23.759122836520497\n"
     ]
    }
   ],
   "source": [
    "# Fuel efficiency, cars from asia\n",
    "cars_asia = df.loc[df[\"origin\"] == \"Asia\", \"fuel_efficiency_mpg\"]\n",
    "\n",
    "# Find the maximum value from the filtered data\n",
    "max_asia = cars_asia.max()\n",
    "print(max_asia)"
   ]
  },
  {
   "cell_type": "markdown",
   "id": "fd182921",
   "metadata": {},
   "source": [
    "**Answer**: Max fuel efficiency in a car made in Asia was approx 23,8."
   ]
  },
  {
   "cell_type": "markdown",
   "id": "d168296b",
   "metadata": {},
   "source": [
    "### Q6 Median value of horsepower"
   ]
  },
  {
   "cell_type": "code",
   "execution_count": 7,
   "id": "fb357623",
   "metadata": {},
   "outputs": [
    {
     "name": "stdout",
     "output_type": "stream",
     "text": [
      "149.0\n"
     ]
    }
   ],
   "source": [
    "# 1 median of horsepower\n",
    "horsepow = df[\"horsepower\"].median()\n",
    "print(horsepow)"
   ]
  },
  {
   "cell_type": "code",
   "execution_count": 8,
   "id": "7e8f3c4f",
   "metadata": {},
   "outputs": [
    {
     "name": "stdout",
     "output_type": "stream",
     "text": [
      "152.0\n"
     ]
    }
   ],
   "source": [
    "# 2 Find most frequent value in horsepower\n",
    "frequent = df[\"horsepower\"].mode()[0]\n",
    "print(frequent)"
   ]
  },
  {
   "cell_type": "code",
   "execution_count": 9,
   "id": "d9bbfacc",
   "metadata": {},
   "outputs": [],
   "source": [
    "# 3 Fill missing values with most frequent one\n",
    "df[\"horsepower\"] = df[\"horsepower\"].fillna(frequent)"
   ]
  },
  {
   "cell_type": "code",
   "execution_count": 10,
   "id": "2f2e53d3",
   "metadata": {},
   "outputs": [
    {
     "name": "stdout",
     "output_type": "stream",
     "text": [
      "152.0\n"
     ]
    }
   ],
   "source": [
    "# 4 median of horsepower after filling\n",
    "horsepow_filled = df[\"horsepower\"].median()\n",
    "print(horsepow_filled)"
   ]
  },
  {
   "cell_type": "markdown",
   "id": "39500f02",
   "metadata": {},
   "source": [
    "**Answer**: Has the value changed? No, median didn't change in this case."
   ]
  },
  {
   "cell_type": "markdown",
   "id": "354e4aa4",
   "metadata": {},
   "source": [
    "### Q7 Sum of weights"
   ]
  },
  {
   "cell_type": "code",
   "execution_count": 11,
   "id": "fd2373eb",
   "metadata": {},
   "outputs": [
    {
     "name": "stdout",
     "output_type": "stream",
     "text": [
      "      engine_displacement  num_cylinders  horsepower  vehicle_weight  \\\n",
      "8                     250            1.0       174.0     2714.219310   \n",
      "12                    320            5.0       145.0     2783.868974   \n",
      "14                    200            6.0       160.0     3582.687368   \n",
      "20                    150            3.0       197.0     2231.808142   \n",
      "21                    160            4.0       133.0     2659.431451   \n",
      "...                   ...            ...         ...             ...   \n",
      "9688                  260            4.0       152.0     3948.404625   \n",
      "9692                  180            3.0       188.0     3680.341381   \n",
      "9693                  280            2.0       148.0     2545.070139   \n",
      "9698                  180            1.0       131.0     3107.427820   \n",
      "9703                  270            3.0       140.0     2908.043477   \n",
      "\n",
      "      acceleration  model_year origin fuel_type         drivetrain  num_doors  \\\n",
      "8             10.3        2016   Asia    Diesel  Front-wheel drive       -1.0   \n",
      "12            15.1        2010   Asia    Diesel    All-wheel drive        1.0   \n",
      "14            14.9        2007   Asia    Diesel    All-wheel drive        0.0   \n",
      "20            18.7        2011   Asia  Gasoline  Front-wheel drive        1.0   \n",
      "21             NaN        2016   Asia  Gasoline  Front-wheel drive       -1.0   \n",
      "...            ...         ...    ...       ...                ...        ...   \n",
      "9688          15.5        2018   Asia    Diesel    All-wheel drive       -1.0   \n",
      "9692          18.0        2016   Asia  Gasoline  Front-wheel drive        1.0   \n",
      "9693          15.6        2012   Asia    Diesel    All-wheel drive        0.0   \n",
      "9698          13.2        2005   Asia  Gasoline  Front-wheel drive       -2.0   \n",
      "9703          14.7        2005   Asia    Diesel    All-wheel drive       -1.0   \n",
      "\n",
      "      fuel_efficiency_mpg  \n",
      "8               16.823554  \n",
      "12              16.175820  \n",
      "14              11.871091  \n",
      "20              18.889083  \n",
      "21              16.077730  \n",
      "...                   ...  \n",
      "9688            11.054830  \n",
      "9692            11.711653  \n",
      "9693            17.202782  \n",
      "9698            13.933716  \n",
      "9703            14.884467  \n",
      "\n",
      "[3247 rows x 11 columns]\n"
     ]
    }
   ],
   "source": [
    "# 1 Select all the cars from Asia\n",
    "car_asia_all = df.loc[df[\"origin\"] == \"Asia\"]\n",
    "print(car_asia_all)"
   ]
  },
  {
   "cell_type": "code",
   "execution_count": 12,
   "id": "619ca020",
   "metadata": {},
   "outputs": [
    {
     "name": "stdout",
     "output_type": "stream",
     "text": [
      "      vehicle_weight  model_year\n",
      "8        2714.219310        2016\n",
      "12       2783.868974        2010\n",
      "14       3582.687368        2007\n",
      "20       2231.808142        2011\n",
      "21       2659.431451        2016\n",
      "...              ...         ...\n",
      "9688     3948.404625        2018\n",
      "9692     3680.341381        2016\n",
      "9693     2545.070139        2012\n",
      "9698     3107.427820        2005\n",
      "9703     2908.043477        2005\n",
      "\n",
      "[3247 rows x 2 columns]\n"
     ]
    }
   ],
   "source": [
    "# 2 Select only columns vehicle_weight and model_year\n",
    "select_two = car_asia_all[[\"vehicle_weight\", \"model_year\"]]\n",
    "print(select_two)"
   ]
  },
  {
   "cell_type": "code",
   "execution_count": 13,
   "id": "7628a235",
   "metadata": {},
   "outputs": [
    {
     "name": "stdout",
     "output_type": "stream",
     "text": [
      "    vehicle_weight  model_year\n",
      "8      2714.219310        2016\n",
      "12     2783.868974        2010\n",
      "14     3582.687368        2007\n",
      "20     2231.808142        2011\n",
      "21     2659.431451        2016\n",
      "34     2844.227534        2014\n",
      "38     3761.994038        2019\n"
     ]
    }
   ],
   "source": [
    "# 3 Select the first 7 values\n",
    "select_two_seven = select_two.head(7)\n",
    "print(select_two_seven)"
   ]
  },
  {
   "cell_type": "code",
   "execution_count": 14,
   "id": "8997e453",
   "metadata": {},
   "outputs": [
    {
     "name": "stdout",
     "output_type": "stream",
     "text": [
      "[[2714.21930965 2016.        ]\n",
      " [2783.86897424 2010.        ]\n",
      " [3582.68736772 2007.        ]\n",
      " [2231.8081416  2011.        ]\n",
      " [2659.43145076 2016.        ]\n",
      " [2844.22753389 2014.        ]\n",
      " [3761.99403819 2019.        ]]\n"
     ]
    }
   ],
   "source": [
    "# 4 Get the underlying NumPy array. Let's call it X.\n",
    "X = select_two_seven.values\n",
    "print(X)"
   ]
  },
  {
   "cell_type": "code",
   "execution_count": 15,
   "id": "9995e699",
   "metadata": {},
   "outputs": [
    {
     "data": {
      "text/plain": [
       "'2.3.3'"
      ]
     },
     "execution_count": 15,
     "metadata": {},
     "output_type": "execute_result"
    }
   ],
   "source": [
    "import numpy as np\n",
    "\n",
    "np.__version__"
   ]
  },
  {
   "cell_type": "code",
   "execution_count": 16,
   "id": "fd3270e0",
   "metadata": {},
   "outputs": [
    {
     "name": "stdout",
     "output_type": "stream",
     "text": [
      "Transpose of X (X.T):\n",
      "[[2714.21930965 2783.86897424 3582.68736772 2231.8081416  2659.43145076\n",
      "  2844.22753389 3761.99403819]\n",
      " [2016.         2010.         2007.         2011.         2016.\n",
      "  2014.         2019.        ]]\n",
      "Matrix-matrix multiplication (XTX):\n",
      "[[62248334.33150762 41431216.5073268 ]\n",
      " [41431216.5073268  28373339.        ]]\n"
     ]
    }
   ],
   "source": [
    "# 5 Compute matrix-matrix multiplication between the transpose of X and X. To get the transpose, use X.T. Let's call the result XTX.\n",
    "# Get the transpose of X\n",
    "X_T = X.T\n",
    "\n",
    "# Compute the matrix-matrix multiplication XTX\n",
    "XTX = np.matmul(X_T, X)\n",
    "\n",
    "print(f\"Transpose of X (X.T):\\n{X_T}\")\n",
    "print(f\"Matrix-matrix multiplication (XTX):\\n{XTX}\")"
   ]
  },
  {
   "cell_type": "code",
   "execution_count": 17,
   "id": "8c69c42f",
   "metadata": {},
   "outputs": [
    {
     "name": "stdout",
     "output_type": "stream",
     "text": [
      "[[ 5.71497081e-07 -8.34509443e-07]\n",
      " [-8.34509443e-07  1.25380877e-06]]\n"
     ]
    }
   ],
   "source": [
    "# 6 Invert XTX.\n",
    "XTX_inv = np.linalg.inv(XTX)\n",
    "print(XTX_inv)"
   ]
  },
  {
   "cell_type": "code",
   "execution_count": 18,
   "id": "7d8843d2",
   "metadata": {},
   "outputs": [],
   "source": [
    "# 7 Create an array y with values [1100, 1300, 800, 900, 1000, 1100, 1200].\n",
    "y = np.array([1100, 1300, 800, 900, 1000, 1100, 1200])"
   ]
  },
  {
   "cell_type": "code",
   "execution_count": 19,
   "id": "ec410ada",
   "metadata": {},
   "outputs": [
    {
     "name": "stdout",
     "output_type": "stream",
     "text": [
      "[[-1.31202622e-04 -8.63909858e-05  3.72634923e-04 -4.02726650e-04\n",
      "  -1.62513724e-04 -5.52342829e-05  4.65094049e-04]\n",
      " [ 2.62636846e-04  1.96990690e-04 -4.73392228e-04  6.58944477e-04\n",
      "   3.08357831e-04  1.51636137e-04 -6.07979633e-04]]\n",
      "[0.01386421 0.5049067 ]\n"
     ]
    }
   ],
   "source": [
    "# 8 Multiply the inverse of XTX with the transpose of X, and then multiply the result by y. Call the result w.\n",
    "# Multiply the inverse of XTX with the transpose of X\n",
    "temp = np.matmul(XTX_inv, X_T)\n",
    "print(temp)\n",
    "\n",
    "# Multiply the result by y to get the weights\n",
    "w = np.matmul(temp, y)\n",
    "print(w)"
   ]
  },
  {
   "cell_type": "code",
   "execution_count": 20,
   "id": "fda60ca9",
   "metadata": {},
   "outputs": [
    {
     "name": "stdout",
     "output_type": "stream",
     "text": [
      "0.5187709081074016\n"
     ]
    }
   ],
   "source": [
    "# 9 What's the sum of all the elements of the result?\n",
    "sum_w = np.sum(w)\n",
    "print(sum_w)"
   ]
  },
  {
   "cell_type": "markdown",
   "id": "f6f7b3e4",
   "metadata": {},
   "source": [
    "**Answer**: Sum is 0,52."
   ]
  }
 ],
 "metadata": {
  "kernelspec": {
   "display_name": "ml-zoomcamp-JT728W42-py3.12",
   "language": "python",
   "name": "python3"
  },
  "language_info": {
   "codemirror_mode": {
    "name": "ipython",
    "version": 3
   },
   "file_extension": ".py",
   "mimetype": "text/x-python",
   "name": "python",
   "nbconvert_exporter": "python",
   "pygments_lexer": "ipython3",
   "version": "3.12.3"
  }
 },
 "nbformat": 4,
 "nbformat_minor": 5
}
