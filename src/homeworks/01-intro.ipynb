{
 "cells": [
  {
   "cell_type": "markdown",
   "id": "e6ba5e2c",
   "metadata": {},
   "source": [
    "### Q1 Pandas version"
   ]
  },
  {
   "cell_type": "code",
   "execution_count": 29,
   "id": "f989955b",
   "metadata": {},
   "outputs": [
    {
     "data": {
      "text/plain": [
       "'2.3.2'"
      ]
     },
     "execution_count": 29,
     "metadata": {},
     "output_type": "execute_result"
    }
   ],
   "source": [
    "import pandas as pd\n",
    "\n",
    "pd.__version__"
   ]
  },
  {
   "cell_type": "markdown",
   "id": "f02c7c64",
   "metadata": {},
   "source": [
    "**Answer**: Pandas version in use is 2.3.2."
   ]
  },
  {
   "cell_type": "markdown",
   "id": "2d0ee85f",
   "metadata": {},
   "source": [
    "### Q2 Records count"
   ]
  },
  {
   "cell_type": "code",
   "execution_count": 30,
   "id": "1a0525c1",
   "metadata": {},
   "outputs": [
    {
     "data": {
      "text/html": [
       "<div>\n",
       "<style scoped>\n",
       "    .dataframe tbody tr th:only-of-type {\n",
       "        vertical-align: middle;\n",
       "    }\n",
       "\n",
       "    .dataframe tbody tr th {\n",
       "        vertical-align: top;\n",
       "    }\n",
       "\n",
       "    .dataframe thead th {\n",
       "        text-align: right;\n",
       "    }\n",
       "</style>\n",
       "<table border=\"1\" class=\"dataframe\">\n",
       "  <thead>\n",
       "    <tr style=\"text-align: right;\">\n",
       "      <th></th>\n",
       "      <th>engine_displacement</th>\n",
       "      <th>num_cylinders</th>\n",
       "      <th>horsepower</th>\n",
       "      <th>vehicle_weight</th>\n",
       "      <th>acceleration</th>\n",
       "      <th>model_year</th>\n",
       "      <th>origin</th>\n",
       "      <th>fuel_type</th>\n",
       "      <th>drivetrain</th>\n",
       "      <th>num_doors</th>\n",
       "      <th>fuel_efficiency_mpg</th>\n",
       "    </tr>\n",
       "  </thead>\n",
       "  <tbody>\n",
       "    <tr>\n",
       "      <th>0</th>\n",
       "      <td>170</td>\n",
       "      <td>3.0</td>\n",
       "      <td>159.0</td>\n",
       "      <td>3413.433759</td>\n",
       "      <td>17.7</td>\n",
       "      <td>2003</td>\n",
       "      <td>Europe</td>\n",
       "      <td>Gasoline</td>\n",
       "      <td>All-wheel drive</td>\n",
       "      <td>0.0</td>\n",
       "      <td>13.231729</td>\n",
       "    </tr>\n",
       "    <tr>\n",
       "      <th>1</th>\n",
       "      <td>130</td>\n",
       "      <td>5.0</td>\n",
       "      <td>97.0</td>\n",
       "      <td>3149.664934</td>\n",
       "      <td>17.8</td>\n",
       "      <td>2007</td>\n",
       "      <td>USA</td>\n",
       "      <td>Gasoline</td>\n",
       "      <td>Front-wheel drive</td>\n",
       "      <td>0.0</td>\n",
       "      <td>13.688217</td>\n",
       "    </tr>\n",
       "    <tr>\n",
       "      <th>2</th>\n",
       "      <td>170</td>\n",
       "      <td>NaN</td>\n",
       "      <td>78.0</td>\n",
       "      <td>3079.038997</td>\n",
       "      <td>15.1</td>\n",
       "      <td>2018</td>\n",
       "      <td>Europe</td>\n",
       "      <td>Gasoline</td>\n",
       "      <td>Front-wheel drive</td>\n",
       "      <td>0.0</td>\n",
       "      <td>14.246341</td>\n",
       "    </tr>\n",
       "    <tr>\n",
       "      <th>3</th>\n",
       "      <td>220</td>\n",
       "      <td>4.0</td>\n",
       "      <td>NaN</td>\n",
       "      <td>2542.392402</td>\n",
       "      <td>20.2</td>\n",
       "      <td>2009</td>\n",
       "      <td>USA</td>\n",
       "      <td>Diesel</td>\n",
       "      <td>All-wheel drive</td>\n",
       "      <td>2.0</td>\n",
       "      <td>16.912736</td>\n",
       "    </tr>\n",
       "    <tr>\n",
       "      <th>4</th>\n",
       "      <td>210</td>\n",
       "      <td>1.0</td>\n",
       "      <td>140.0</td>\n",
       "      <td>3460.870990</td>\n",
       "      <td>14.4</td>\n",
       "      <td>2009</td>\n",
       "      <td>Europe</td>\n",
       "      <td>Gasoline</td>\n",
       "      <td>All-wheel drive</td>\n",
       "      <td>2.0</td>\n",
       "      <td>12.488369</td>\n",
       "    </tr>\n",
       "  </tbody>\n",
       "</table>\n",
       "</div>"
      ],
      "text/plain": [
       "   engine_displacement  num_cylinders  horsepower  vehicle_weight  \\\n",
       "0                  170            3.0       159.0     3413.433759   \n",
       "1                  130            5.0        97.0     3149.664934   \n",
       "2                  170            NaN        78.0     3079.038997   \n",
       "3                  220            4.0         NaN     2542.392402   \n",
       "4                  210            1.0       140.0     3460.870990   \n",
       "\n",
       "   acceleration  model_year  origin fuel_type         drivetrain  num_doors  \\\n",
       "0          17.7        2003  Europe  Gasoline    All-wheel drive        0.0   \n",
       "1          17.8        2007     USA  Gasoline  Front-wheel drive        0.0   \n",
       "2          15.1        2018  Europe  Gasoline  Front-wheel drive        0.0   \n",
       "3          20.2        2009     USA    Diesel    All-wheel drive        2.0   \n",
       "4          14.4        2009  Europe  Gasoline    All-wheel drive        2.0   \n",
       "\n",
       "   fuel_efficiency_mpg  \n",
       "0            13.231729  \n",
       "1            13.688217  \n",
       "2            14.246341  \n",
       "3            16.912736  \n",
       "4            12.488369  "
      ]
     },
     "execution_count": 30,
     "metadata": {},
     "output_type": "execute_result"
    }
   ],
   "source": [
    "df = pd.read_csv(\"../data/car_fuel_efficiency.csv\")\n",
    "# First let's have a peek what we have in the file.\n",
    "df.head()"
   ]
  },
  {
   "cell_type": "code",
   "execution_count": 31,
   "id": "1d270a56",
   "metadata": {},
   "outputs": [
    {
     "name": "stdout",
     "output_type": "stream",
     "text": [
      "9704\n"
     ]
    }
   ],
   "source": [
    "records = len(df)  # Prints number of records.\n",
    "print(records)"
   ]
  },
  {
   "cell_type": "markdown",
   "id": "7ea2fe59",
   "metadata": {},
   "source": [
    "**Answer**: There is 9704 records in the csv file."
   ]
  },
  {
   "cell_type": "markdown",
   "id": "805d65da",
   "metadata": {},
   "source": [
    "### Q3 Fuel types"
   ]
  },
  {
   "cell_type": "code",
   "execution_count": 32,
   "id": "ae28ce89",
   "metadata": {},
   "outputs": [
    {
     "name": "stdout",
     "output_type": "stream",
     "text": [
      "2\n"
     ]
    }
   ],
   "source": [
    "fuel = df[\n",
    "    \"fuel_type\"\n",
    "].nunique()  # This print number of unique values in fuel_type column.\n",
    "print(fuel)"
   ]
  },
  {
   "cell_type": "markdown",
   "id": "5de5b4d5",
   "metadata": {},
   "source": [
    "**Answer**: There is only two distinct values in the fuel types."
   ]
  },
  {
   "cell_type": "markdown",
   "id": "7314b525",
   "metadata": {},
   "source": [
    "### Q4 Missing values"
   ]
  },
  {
   "cell_type": "code",
   "execution_count": 33,
   "id": "9c690a7e",
   "metadata": {},
   "outputs": [
    {
     "name": "stdout",
     "output_type": "stream",
     "text": [
      "2622\n"
     ]
    }
   ],
   "source": [
    "missing = df.isnull().sum().sum()\n",
    "print(missing)"
   ]
  },
  {
   "cell_type": "markdown",
   "id": "a3fcaab9",
   "metadata": {},
   "source": [
    "**Answer**: Total amount of missing values is 2622."
   ]
  },
  {
   "cell_type": "markdown",
   "id": "99e35c6c",
   "metadata": {},
   "source": [
    "### Q5 Max fuel efficiency"
   ]
  },
  {
   "cell_type": "code",
   "execution_count": 34,
   "id": "ed386af6",
   "metadata": {},
   "outputs": [
    {
     "name": "stdout",
     "output_type": "stream",
     "text": [
      "23.759122836520497\n"
     ]
    }
   ],
   "source": [
    "# Fuel efficiency, cars from asia\n",
    "cars_asia = df.loc[df[\"origin\"] == \"Asia\", \"fuel_efficiency_mpg\"]\n",
    "\n",
    "# Find the maximum value from the filtered data\n",
    "max_asia = cars_asia.max()\n",
    "print(max_asia)"
   ]
  },
  {
   "cell_type": "markdown",
   "id": "fd182921",
   "metadata": {},
   "source": [
    "**Answer**: Max fuel efficiency in a car made in Asia was approx 23,8."
   ]
  },
  {
   "cell_type": "markdown",
   "id": "d168296b",
   "metadata": {},
   "source": [
    "### Q6 Median value of horsepower"
   ]
  },
  {
   "cell_type": "code",
   "execution_count": 35,
   "id": "fb357623",
   "metadata": {},
   "outputs": [
    {
     "name": "stdout",
     "output_type": "stream",
     "text": [
      "149.0\n"
     ]
    }
   ],
   "source": [
    "# 1 median of horsepower\n",
    "horsepow = df[\"horsepower\"].median()\n",
    "print(horsepow)"
   ]
  },
  {
   "cell_type": "code",
   "execution_count": 36,
   "id": "7e8f3c4f",
   "metadata": {},
   "outputs": [
    {
     "name": "stdout",
     "output_type": "stream",
     "text": [
      "0    152.0\n",
      "Name: horsepower, dtype: float64\n"
     ]
    }
   ],
   "source": [
    "# 2 Find most frequent value in horsepower\n",
    "frequent = df[\"horsepower\"].mode()\n",
    "print(frequent)"
   ]
  },
  {
   "cell_type": "code",
   "execution_count": 37,
   "id": "d9bbfacc",
   "metadata": {},
   "outputs": [],
   "source": [
    "# 3 Fill missing values with most frequent one\n",
    "df[\"horsepower\"] = df[\"horsepower\"].fillna(frequent)"
   ]
  },
  {
   "cell_type": "code",
   "execution_count": 38,
   "id": "2f2e53d3",
   "metadata": {},
   "outputs": [
    {
     "name": "stdout",
     "output_type": "stream",
     "text": [
      "149.0\n"
     ]
    }
   ],
   "source": [
    "# 4 median of horsepower after filling\n",
    "horsepow_filled = df[\"horsepower\"].median()\n",
    "print(horsepow_filled)"
   ]
  },
  {
   "cell_type": "markdown",
   "id": "39500f02",
   "metadata": {},
   "source": [
    "**Answer**: Has the value changed? No, median didn't change in this case."
   ]
  },
  {
   "cell_type": "markdown",
   "id": "354e4aa4",
   "metadata": {},
   "source": [
    "### Q7 Sum of weights"
   ]
  }
 ],
 "metadata": {
  "kernelspec": {
   "display_name": "ml-zoomcamp-JT728W42-py3.12",
   "language": "python",
   "name": "python3"
  },
  "language_info": {
   "codemirror_mode": {
    "name": "ipython",
    "version": 3
   },
   "file_extension": ".py",
   "mimetype": "text/x-python",
   "name": "python",
   "nbconvert_exporter": "python",
   "pygments_lexer": "ipython3",
   "version": "3.12.3"
  }
 },
 "nbformat": 4,
 "nbformat_minor": 5
}
