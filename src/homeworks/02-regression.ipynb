{
 "cells": [
  {
   "cell_type": "markdown",
   "id": "dd7c12dd",
   "metadata": {},
   "source": [
    "### Preparing the dataset"
   ]
  },
  {
   "cell_type": "code",
   "execution_count": null,
   "id": "6a9a80a5",
   "metadata": {},
   "outputs": [],
   "source": [
    "import pandas as pd\n",
    "df = pd.read_csv('../data/car_fuel_efficiency.csv')\n",
    "df.head()"
   ]
  },
  {
   "cell_type": "code",
   "execution_count": null,
   "id": "eb986fc3",
   "metadata": {},
   "outputs": [],
   "source": [
    "df_filtered = df[['engine_displacement', 'horsepower',\n",
    "'vehicle_weight',\n",
    "'model_year',\n",
    "'fuel_efficiency_mpg']]\n",
    "df_filtered.head()"
   ]
  },
  {
   "cell_type": "markdown",
   "id": "148e28af",
   "metadata": {},
   "source": [
    "### EDA"
   ]
  },
  {
   "cell_type": "code",
   "execution_count": null,
   "id": "aa8628d1",
   "metadata": {},
   "outputs": [],
   "source": [
    "import matplotlib.pyplot as plt\n",
    "import seaborn as sns\n",
    "%matplotlib inline"
   ]
  },
  {
   "cell_type": "code",
   "execution_count": null,
   "id": "aeeed562",
   "metadata": {},
   "outputs": [],
   "source": [
    "sns.histplot(df.fuel_efficiency_mpg)"
   ]
  },
  {
   "cell_type": "markdown",
   "id": "88deffce",
   "metadata": {},
   "source": [
    "**Answer**: Variable fuel_efficiency_mpg does not have long tail, resembling a normal distribution."
   ]
  },
  {
   "cell_type": "markdown",
   "id": "e14f84c0",
   "metadata": {},
   "source": [
    "### Q1"
   ]
  },
  {
   "cell_type": "code",
   "execution_count": null,
   "id": "be649801",
   "metadata": {},
   "outputs": [],
   "source": [
    "# Check for missing values in each column\n",
    "selected_cols = ['engine_displacement', 'horsepower', 'vehicle_weight', 'model_year']\n",
    "\n",
    "for column in selected_cols:\n",
    "    missing_count = df[column].isnull().sum() > 0\n",
    "    print(f\"{column}: {missing_count}\")"
   ]
  },
  {
   "cell_type": "markdown",
   "id": "8a21d991",
   "metadata": {},
   "source": [
    "**Answer**: Column horsepower has missing values."
   ]
  },
  {
   "cell_type": "markdown",
   "id": "d20d25e1",
   "metadata": {},
   "source": [
    "### Q2"
   ]
  },
  {
   "cell_type": "code",
   "execution_count": null,
   "id": "5f85b8b7",
   "metadata": {},
   "outputs": [],
   "source": [
    "median_hp = df.horsepower.median()\n",
    "print(median_hp)"
   ]
  },
  {
   "cell_type": "markdown",
   "id": "0b84c90b",
   "metadata": {},
   "source": [
    "**Answer**: Median horsepower is 149."
   ]
  },
  {
   "cell_type": "markdown",
   "id": "df2a349e",
   "metadata": {},
   "source": [
    "### Prepare and split the dataset, seed 42"
   ]
  },
  {
   "cell_type": "code",
   "execution_count": null,
   "id": "97423486",
   "metadata": {},
   "outputs": [],
   "source": [
    "# Code from the lectures\n",
    "n = len(df)\n",
    "\n",
    "n_val = int(n* 0.2)\n",
    "n_test = int(n* 0.2)\n",
    "n_train = n - n_val - n_test"
   ]
  },
  {
   "cell_type": "code",
   "execution_count": null,
   "id": "b78413d3",
   "metadata": {},
   "outputs": [],
   "source": [
    "n_val, n_test, n_train"
   ]
  },
  {
   "cell_type": "code",
   "execution_count": null,
   "id": "001a5846",
   "metadata": {},
   "outputs": [],
   "source": [
    "df_train = df.iloc[:n_train]\n",
    "df_val = df.iloc[n_train:n_train+n_val]\n",
    "df_test = df.iloc[n_train+n_val:]"
   ]
  },
  {
   "cell_type": "code",
   "execution_count": null,
   "id": "12392062",
   "metadata": {},
   "outputs": [],
   "source": [
    "idx = np.arange(n)"
   ]
  },
  {
   "cell_type": "code",
   "execution_count": null,
   "id": "2bea095a",
   "metadata": {},
   "outputs": [],
   "source": [
    "np.random.seed(42)\n",
    "np.random.shuffle(idx)"
   ]
  },
  {
   "cell_type": "code",
   "execution_count": null,
   "id": "edcde061",
   "metadata": {},
   "outputs": [],
   "source": [
    "\n",
    "\n",
    "df_train = df.iloc[idx[n_train:]]\n",
    "df_val = df.iloc[idx[n_train:n_train+n_val]]\n",
    "df_test = df.iloc[idx[n_train+n_val:]]"
   ]
  },
  {
   "cell_type": "markdown",
   "id": "7dc9350a",
   "metadata": {},
   "source": [
    "### Q3"
   ]
  },
  {
   "cell_type": "code",
   "execution_count": null,
   "id": "79c7d831",
   "metadata": {},
   "outputs": [],
   "source": []
  },
  {
   "cell_type": "markdown",
   "id": "effa7466",
   "metadata": {},
   "source": [
    "**Answer**:"
   ]
  },
  {
   "cell_type": "markdown",
   "id": "55dfed47",
   "metadata": {},
   "source": [
    "### Q4"
   ]
  },
  {
   "cell_type": "code",
   "execution_count": null,
   "id": "f0b25201",
   "metadata": {},
   "outputs": [],
   "source": []
  },
  {
   "cell_type": "markdown",
   "id": "f5ca9748",
   "metadata": {},
   "source": [
    "**Answer**:"
   ]
  },
  {
   "cell_type": "markdown",
   "id": "718e7f50",
   "metadata": {},
   "source": [
    "### Q5"
   ]
  },
  {
   "cell_type": "code",
   "execution_count": null,
   "id": "a219a771",
   "metadata": {},
   "outputs": [],
   "source": []
  },
  {
   "cell_type": "markdown",
   "id": "4be5d073",
   "metadata": {},
   "source": [
    "**Answer**:"
   ]
  },
  {
   "cell_type": "markdown",
   "id": "40d374da",
   "metadata": {},
   "source": [
    "### Q6"
   ]
  },
  {
   "cell_type": "code",
   "execution_count": null,
   "id": "9c129528",
   "metadata": {},
   "outputs": [],
   "source": []
  },
  {
   "cell_type": "markdown",
   "id": "ff98868e",
   "metadata": {},
   "source": [
    "**Answer**:"
   ]
  }
 ],
 "metadata": {
  "kernelspec": {
   "display_name": "ml-zoomcamp-JT728W42-py3.12",
   "language": "python",
   "name": "python3"
  },
  "language_info": {
   "codemirror_mode": {
    "name": "ipython",
    "version": 3
   },
   "file_extension": ".py",
   "mimetype": "text/x-python",
   "name": "python",
   "nbconvert_exporter": "python",
   "pygments_lexer": "ipython3",
   "version": "3.12.3"
  }
 },
 "nbformat": 4,
 "nbformat_minor": 5
}
